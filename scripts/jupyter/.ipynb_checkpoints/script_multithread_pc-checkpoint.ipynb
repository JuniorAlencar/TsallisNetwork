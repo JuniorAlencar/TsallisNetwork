{
 "cells": [
  {
   "cell_type": "code",
   "execution_count": 1,
   "id": "2e08a34f",
   "metadata": {},
   "outputs": [],
   "source": [
    "import numpy as np\n",
    "import glob\n",
    "import os"
   ]
  },
  {
   "cell_type": "code",
   "execution_count": null,
   "id": "1fb7339b",
   "metadata": {},
   "outputs": [],
   "source": [
    "def ScriptGenerate(N,alpha_a,alpha_g,dim,NumSamples):\n",
    "    filename = f\"N{N}_a{alpha_a:.2f}_g{alpha_g:.2f}_d{dim}.sh\"\n",
    "\n",
    "    a = \"#!/bin/bash\\n\"\n",
    "    \n",
    "    b = \"# Define uma função que contêm o código para rodar em paralelo\\n\"\n",
    "    \n",
    "    c = \"run_code() {\\n\"\n",
    "    d = f\"../build/N_{N} ../parms/$1\\n\"\n",
    "    e = \"}\\n\"\n",
    "    f = \"# Exportar a função usando o módulo Parallel\\n\"\n",
    "    g = \"export -f run_code\\n\"\n",
    "    \n",
    "    path_d = f\"../../parms_pc\"\n",
    "    all_files = glob.glob(os.path.join(path_d,\"*.csv.gz\"))\n",
    "    \n",
    "    list_of_arguments = []\n",
    "    \n",
    "    for i in range():\n",
    "    \n",
    "\n",
    "    g = \"x=0\\n\"\n",
    "    h = f\"n_samples={NumSamples}\\n\"\n",
    "    i = \"while [ $x -le $n_samples ]\\n\"\n",
    "    j = \"do\\n\\t\"\n",
    "    m = f\"srun ../build/N{N} ../parms/N_{N}_a{alpha_a:.2f}_g{alpha_g:.2f}_d{dim}.json\\n\\t\"\n",
    "    q = \"x=$(( $x + 1 ))\\n\"\n",
    "    v = \"done\"\n",
    "\n",
    "    newpath = \"../multithread/\"\n",
    "    \n",
    "    if not os.path.exists(newpath):\n",
    "        os.makedirs(newpath)\n",
    "    \n",
    "    list_for_loop = [a,b,c,d,e,g,h,i,j,m,q,v]\n",
    "    l = open(newpath + filename, \"w\") # argument w: write if don't exist file\n",
    "\n",
    "    for k in list_for_loop:\n",
    "        l.write(k)\n",
    "    l.close()"
   ]
  }
 ],
 "metadata": {
  "kernelspec": {
   "display_name": "Python 3 (ipykernel)",
   "language": "python",
   "name": "python3"
  },
  "language_info": {
   "codemirror_mode": {
    "name": "ipython",
    "version": 3
   },
   "file_extension": ".py",
   "mimetype": "text/x-python",
   "name": "python",
   "nbconvert_exporter": "python",
   "pygments_lexer": "ipython3",
   "version": "3.10.9"
  }
 },
 "nbformat": 4,
 "nbformat_minor": 5
}
