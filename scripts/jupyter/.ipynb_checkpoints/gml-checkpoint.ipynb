{
 "cells": [
  {
   "cell_type": "code",
   "execution_count": null,
   "metadata": {},
   "outputs": [
    {
     "ename": "",
     "evalue": "",
     "output_type": "error",
     "traceback": [
      "\u001b[1;31mRunning cells with '/bin/python' requires the ipykernel package.\n",
      "\u001b[1;31mRun the following command to install 'ipykernel' into the Python environment. \n",
      "\u001b[1;31mCommand: '/bin/python -m pip install ipykernel -U --user --force-reinstall'"
     ]
    }
   ],
   "source": [
    "# -*- coding: utf-8 -*-\n",
    "import gzip\n",
    "import os"
   ]
  },
  {
   "cell_type": "code",
   "execution_count": null,
   "metadata": {},
   "outputs": [],
   "source": [
    "def gml_reader(N, dim, alpha_a, alpha_g, cod_file):\n",
    "\tpath = f\"../../data/N_{N}/dim_{dim}/alpha_a_{alpha_a}_alpha_g_{alpha_g}/gml/\" \n",
    "\tisExist = os.path.exists(path)\n",
    "\tif(isExist!=True):\n",
    "\t\treturn \"doesn't exist\", \"gml_folder\"\n",
    "\tFile = f\"gml_{cod_file}.gml.gz\"\n",
    "\n",
    "\n",
    "\tfile_directory = path + File\n",
    "\n",
    "\tnode = {\"id\": [],\n",
    "\t\t\"position\":[],\n",
    "\t\t\"degree\": []}\n",
    "\tedge = {\"connections\": [],\n",
    "\t\t  \"distance\": []}\n",
    "\twith gzip.open(file_directory) as file_in:\n",
    "\t\tString = file_in.readlines()\n",
    "\t\tLines = [i.decode('utf-8') for i in String]\n",
    "\t\tfor i in range(len(Lines)):\n",
    "\t\t\tif(Lines[i]=='node\\n'):\n",
    "\t\t\t\tnode[\"id\"].append(int(Lines[i+2][4:-2]))\n",
    "\t\t\t\tnode[\"position\"].append([float(Lines[i+6][2:-1]),float(Lines[i+7][2:-1]),float(Lines[i+8][2:-1])])\n",
    "\t\t\t\tnode[\"degree\"].append(int(Lines[i+9][7:-1]))\n",
    "\t\t\telif(Lines[i]==\"edge\\n\"):\n",
    "\t\t\t\tedge[\"connections\"].append([int(Lines[i+2][8:-2]),int(Lines[i+3][8:-2])])\n",
    "\t\t\t\tedge[\"distance\"].append(float(Lines[i+4][9:-1]))\n",
    "\treturn node, edge"
   ]
  }
 ],
 "metadata": {
  "kernelspec": {
   "display_name": "Python 3 (ipykernel)",
   "language": "python",
   "name": "python3"
  },
  "language_info": {
   "codemirror_mode": {
    "name": "ipython",
    "version": 3
   },
   "file_extension": ".py",
   "mimetype": "text/x-python",
   "name": "python",
   "nbconvert_exporter": "python",
   "pygments_lexer": "ipython3",
   "version": "3.10.9"
  }
 },
 "nbformat": 4,
 "nbformat_minor": 2
}
