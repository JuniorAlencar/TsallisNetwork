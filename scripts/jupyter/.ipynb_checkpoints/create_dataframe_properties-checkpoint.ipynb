{
 "cells": [
  {
   "cell_type": "code",
   "execution_count": 6,
   "id": "f13f7aa0",
   "metadata": {},
   "outputs": [],
   "source": [
    "import numpy as np\n",
    "import os\n",
    "import os.path\n",
    "import glob\n",
    "import pandas as pd"
   ]
  },
  {
   "cell_type": "code",
   "execution_count": 122,
   "id": "452e518f",
   "metadata": {},
   "outputs": [],
   "source": [
    "def all_properties(N,dim,alpha_a,alpha_g):\n",
    "    # Directory with all samples\n",
    "    path_d = f\"../../data/N_{N}/dim_{dim}/alpha_a_{alpha_a}_alpha_g_{alpha_g}\" \n",
    "    # dataframe with all samples\n",
    "    new_file = \"/properties_set.txt\"                                           \n",
    "    # Check if file exist\n",
    "    check_file = os.path.isfile(path_d+new_file)                               \n",
    "\n",
    "    # Open all files path in directory .csv\n",
    "    all_files = glob.glob(os.path.join(path_d,\"*.csv\"))                        \n",
    "    # If file exist, open\n",
    "    if check_file==True:            \n",
    "        df = pd.read_csv(path_d+new_file,sep=\" \")\n",
    "        data = df.iloc[:,1:] \n",
    "        filter_list = str(data[\"#cod_file\"].values) #filter_list to check if files are in dataframe\n",
    "\n",
    "        for file in all_files:\n",
    "            if(os.path.basename(file)[5:-4] in filter_list==True):\n",
    "                pass\n",
    "            else:\n",
    "                new_data = pd.read_csv(file)\n",
    "                data.loc[len(data),\"#short_path\"] = new_data[\"#mean shortest path\"].values[0]\n",
    "                data.loc[len(data),\"#diamater\"] = new_data[\"# diamater\"].values[0]\n",
    "                data.loc[len(data),\"#ass_coeff\"] = new_data[\"#assortativity coefficient\"].values[0]\n",
    "                data.loc[len(data),\"#cod_file\"] = os.path.basename(file)[5:-4]\n",
    "\n",
    "    # Else, create it\n",
    "    else:    \n",
    "        df = pd.DataFrame(columns=[\"#short_path\", \"#diamater\", \"#ass_coeff\",\"#cod_file\"])\n",
    "        i = 0\n",
    "        # Open all files path in directory .csv\n",
    "        for file in all_files:\n",
    "            train = pd.read_csv(file)\n",
    "            df.loc[i,\"#short_path\"] = train[\"#mean shortest path\"].values[0]\n",
    "            df.loc[i,\"#diamater\"] = train[\"# diamater\"].values[0]\n",
    "            df.loc[i,\"#ass_coeff\"] = train[\"#assortativity coefficient\"].values[0]\n",
    "            df.loc[i,\"#cod_file\"] = os.path.basename(file)[5:-4]\n",
    "            i += 1\n",
    "        df.to_csv(path_d+new_file,sep=' ')"
   ]
  },
  {
   "cell_type": "code",
   "execution_count": 127,
   "id": "4de1dc41",
   "metadata": {},
   "outputs": [],
   "source": [
    "N = 10**5\n",
    "dim =1\n",
    "alpha_a = 1.0\n",
    "alpha_g = 2.0\n",
    "\n",
    "# Directory with all samples\n",
    "path_d = f\"../../data/N_{N}/dim_{dim}/alpha_a_{alpha_a}_alpha_g_{alpha_g}\" \n",
    "# dataframe with all samples\n",
    "new_file = \"/properties_set.txt\"                                           \n",
    "# Check if file exist\n",
    "check_file = os.path.isfile(path_d+new_file)                               \n",
    "\n",
    "# Open all files path in directory .csv\n",
    "all_files = glob.glob(os.path.join(path_d,\"*.csv\"))                        \n",
    "# If file exist, open\n",
    "if check_file==True:            \n",
    "    df = pd.read_csv(path_d+new_file,sep=\" \")\n",
    "    data = df.iloc[:,1:] \n",
    "    filter_list = str(data[\"#cod_file\"].values) #filter_list to check if files are in dataframe\n",
    "\n",
    "    for file in all_files:\n",
    "        if(os.path.basename(file)[5:-4] in filter_list==True):\n",
    "            pass\n",
    "        else:\n",
    "            new_data = pd.read_csv(file)\n",
    "            data.loc[len(data),\"#short_path\"] = new_data[\"#mean shortest path\"].values[0]\n",
    "            data.loc[len(data),\"#diamater\"] = new_data[\"# diamater\"].values[0]\n",
    "            data.loc[len(data),\"#ass_coeff\"] = new_data[\"#assortativity coefficient\"].values[0]\n",
    "            data.loc[len(data),\"#cod_file\"] = os.path.basename(file)[5:-4]\n",
    "            print(\"ar ak\")\n",
    "        #data.to_csv(path_d+new_file,sep=' ')\n",
    "\n",
    "# Else, create it\n",
    "else:    \n",
    "    df = pd.DataFrame(columns=[\"#short_path\", \"#diamater\", \"#ass_coeff\",\"#cod_file\"])\n",
    "    i = 0\n",
    "    # Open all files path in directory .csv\n",
    "    for file in all_files:\n",
    "        train = pd.read_csv(file)\n",
    "        df.loc[i,\"#short_path\"] = train[\"#mean shortest path\"].values[0]\n",
    "        df.loc[i,\"#diamater\"] = train[\"# diamater\"].values[0]\n",
    "        df.loc[i,\"#ass_coeff\"] = train[\"#assortativity coefficient\"].values[0]\n",
    "        df.loc[i,\"#cod_file\"] = os.path.basename(file)[5:-4]\n",
    "        i += 1\n",
    "    df.to_csv(path_d+new_file,sep=' ')"
   ]
  },
  {
   "cell_type": "code",
   "execution_count": 128,
   "id": "4d943a40",
   "metadata": {},
   "outputs": [],
   "source": [
    "N = 10**5\n",
    "dim =1\n",
    "alpha_a = 1.0\n",
    "alpha_g = 2.0\n",
    "all_properties(N,dim,alpha_a,alpha_g)"
   ]
  },
  {
   "cell_type": "code",
   "execution_count": 41,
   "id": "26f3a761",
   "metadata": {},
   "outputs": [
    {
     "name": "stdout",
     "output_type": "stream",
     "text": [
      "1.479019945774904\n",
      "1.479019945774904\n",
      "1.479019945774904\n"
     ]
    }
   ],
   "source": [
    "lis = [1,3,5,4]\n",
    "t = pd.DataFrame({\"k\":lis})\n",
    "tes_mean = np.mean(lis)\n",
    "aux = [tes_mean for i in range(len(lis))]\n",
    "var = [(lis[i]-aux[i])**2 for i in range(len(lis))]\n",
    "ds = np.sqrt(sum(var)/len(var))\n",
    "print(ds)\n",
    "print(np.std(lis))\n",
    "print(t[\"k\"].std(ddof=0))"
   ]
  }
 ],
 "metadata": {
  "kernelspec": {
   "display_name": "Python 3 (ipykernel)",
   "language": "python",
   "name": "python3"
  },
  "language_info": {
   "codemirror_mode": {
    "name": "ipython",
    "version": 3
   },
   "file_extension": ".py",
   "mimetype": "text/x-python",
   "name": "python",
   "nbconvert_exporter": "python",
   "pygments_lexer": "ipython3",
   "version": "3.10.9"
  }
 },
 "nbformat": 4,
 "nbformat_minor": 5
}
