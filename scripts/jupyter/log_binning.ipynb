{
 "cells": [
  {
   "cell_type": "code",
   "execution_count": 7,
   "id": "0100e6ea",
   "metadata": {},
   "outputs": [],
   "source": [
    "import numpy as np\n",
    "import matplotlib.pyplot as plt\n",
    "from multiprocessing import Manager, Pool, Process\n",
    "from collections import *  # módulo counter para contar o número de elmentos\n",
    "from math import *\n",
    "from scipy import stats"
   ]
  },
  {
   "cell_type": "markdown",
   "id": "380d7006",
   "metadata": {},
   "source": [
    "## Função que realiza o log binning"
   ]
  },
  {
   "cell_type": "code",
   "execution_count": 92,
   "id": "6ade09c8",
   "metadata": {},
   "outputs": [],
   "source": [
    "#data: conectividade (lista com grau de cada sítio)\n",
    "#N: número de bins;\n",
    "\n",
    "#return: k_médio e pk_médio (binados)\n",
    "\n",
    "def log_binning(data, N):\n",
    "    # Realizando a binagem\n",
    "    \n",
    "    # Razão da PG dos termos\n",
    "    q = (max(data) / min(data)) ** (1 / (N - 1))\n",
    "\n",
    "    # Bins em potencia de 2------------------\n",
    "    bins = [q ** i for i in range(N)]\n",
    "\n",
    "    # K separado em cada caixa-----------------\n",
    "    k_bin = [[] for i in np.repeat(None, N)]\n",
    "\n",
    "    for i in range(len(data)):\n",
    "        m = int(np.log(data[i]) / np.log(q))\n",
    "        k_bin[m].append(data[i])\n",
    "\n",
    "    # Removendo as listas vazias e o bins que não possuem elemento em sua bin\n",
    "    for i in range(len(k_bin)):\n",
    "        for index, elements in enumerate(k_bin):\n",
    "            if len(elements) == 0:\n",
    "                del k_bin[index]\n",
    "                del bins[index]\n",
    "    \n",
    "    # Largura dos espaçamentos dos bins\n",
    "    Bins = np.array(bins)\n",
    "    widths = (Bins[1:] - Bins[:-1])\n",
    "    \n",
    "    # Calculando o valor de k_médio--------------------------------------\n",
    "    \n",
    "    # Conta os valores únicos de k\n",
    "    k = list(list(Counter(k_bin[i]).keys()) for i in range(len(k_bin)))\n",
    "    \n",
    "    # Conta o o número de vezes que os valores únicos de k aparecem\n",
    "    Nk = list(list(Counter(k_bin[i]).values()) for i in range(len(k_bin)))\n",
    "\n",
    "    # Guardará o k médio\n",
    "    k_avarage = []\n",
    "    \n",
    "    # Loop inicia no comprimento de k (número de bins)\n",
    "    for i in range(len(k)):\n",
    "        # Valor inicial da soma para média e reset do termo da média\n",
    "        Sum = 0\n",
    "\n",
    "        # Pega o comprimento da lista dentro da lista de k\n",
    "        for j in range(len(k[i])):\n",
    "            # Calculo dos termos da média\n",
    "            Sum += k[i][j] * Nk[i][j] / sum(Nk[i])\n",
    "        # Add a média de k_i no array k_avarage_i\n",
    "        k_avarage.append(Sum)\n",
    "    # Pegando o ponto médio de k_avarage;\n",
    "    K_avarage = [(k_avarage[i+1]+k_avarage[i])/2 for i in range(len(k_avarage)-1)]\n",
    "    \n",
    "    # Calculando o valor de pk_médio---------------------------\n",
    "    \n",
    "    # Conta o o número de vezes que os valores únicos de k aparecem\n",
    "    nk = list(sum(list(Counter(k_bin[i]).values())) for i in range(len(k_bin)))\n",
    "    # Número de sítios na rede\n",
    "    N = sum([len(k_bin[i]) for i in range(len(k_bin))])\n",
    "    \n",
    "    # Calculando pk_medio em k_médio;\n",
    "    \n",
    "    pk = [(nk[i+1]+nk[i]/2) / (widths[i] * N) for i in range(len(nk)-1)]\n",
    "    \n",
    "    return K_avarage, pk"
   ]
  },
  {
   "cell_type": "code",
   "execution_count": 100,
   "id": "258d8a2f",
   "metadata": {},
   "outputs": [],
   "source": [
    "k_ava, pk = log_binning(data, 90)"
   ]
  },
  {
   "cell_type": "code",
   "execution_count": 101,
   "id": "66498f8a",
   "metadata": {},
   "outputs": [
    {
     "data": {
      "image/png": "[encoded data removed]",
      "text/plain": [
       "<Figure size 432x288 with 1 Axes>"
      ]
     },
     "metadata": {
      "needs_background": "light"
     },
     "output_type": "display_data"
    }
   ],
   "source": [
    "plt.plot(k_ava,pk,'o')\n",
    "plt.xscale('log')\n",
    "plt.yscale('log')\n",
    "plt.show()"
   ]
  },
  {
   "cell_type": "code",
   "execution_count": null,
   "id": "841e7905",
   "metadata": {},
   "outputs": [],
   "source": []
  }
 ],
 "metadata": {
  "kernelspec": {
   "display_name": "Python 3 (ipykernel)",
   "language": "python",
   "name": "python3"
  },
  "language_info": {
   "codemirror_mode": {
    "name": "ipython",
    "version": 3
   },
   "file_extension": ".py",
   "mimetype": "text/x-python",
   "name": "python",
   "nbconvert_exporter": "python",
   "pygments_lexer": "ipython3",
   "version": "3.9.12"
  }
 },
 "nbformat": 4,
 "nbformat_minor": 5
}
