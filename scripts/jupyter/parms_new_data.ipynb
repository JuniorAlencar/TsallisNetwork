{
 "cells": [
  {
   "cell_type": "code",
   "execution_count": 1,
   "metadata": {},
   "outputs": [],
   "source": [
    "import numpy as np\n",
    "import pandas as pd\n",
    "from src.FunctionsSurface import *"
   ]
  },
  {
   "cell_type": "code",
   "execution_count": 2,
   "metadata": {},
   "outputs": [],
   "source": [
    "alpha_a_1 = np.round(np.arange(0.0, 10.1, 0.1),2)\n",
    "alpha_g_1 = np.round(np.arange(0.1, 10.2, 0.1),2)\n",
    "\n",
    "alpha_g_2 = np.round(np.arange(10.1,15.5,0.1), 2)\n",
    "alpha_a_2 = np.round(np.arange(10.0,15.4,0.1), 2)\n",
    "R_2, R_3, R_4 = [],[],[]\n",
    "\n",
    "    \n",
    "for j in range(len(alpha_g_2)):\n",
    "    for i in range(len(alpha_a_1)):\n",
    "        R_2.append((alpha_a_1[i],alpha_g_2[j]))\n",
    "\n",
    "for j in range(len(alpha_a_2)):\n",
    "    for i in range(len(alpha_g_1)):\n",
    "        R_4.append((alpha_a_2[j],alpha_g_1[i]))\n",
    "\n",
    "for i in range(len(alpha_a_2)):\n",
    "    for j in range(len(alpha_g_2)):\n",
    "        R_3.append((alpha_a_2[i],alpha_g_2[j]))"
   ]
  },
  {
   "cell_type": "code",
   "execution_count": 3,
   "metadata": {},
   "outputs": [],
   "source": [
    "R_T = R_2 + R_3 + R_4\n",
    "\n",
    "alpha_a = [R_T[i][0] for i in range(len(R_T))]\n",
    "alpha_g = [R_T[i][1] for i in range(len(R_T))]\n",
    "dict_3d = {\"alpha_a\":alpha_a, \"alpha_g\":alpha_g, \"dim\":[int(3*i) for i in np.ones(len(alpha_a))]}\n",
    "dict_4d = {\"alpha_a\":alpha_a, \"alpha_g\":alpha_g, \"dim\":[int(4*i) for i in np.ones(len(alpha_a))]}"
   ]
  },
  {
   "cell_type": "code",
   "execution_count": 4,
   "metadata": {},
   "outputs": [],
   "source": [
    "df_3d = pd.DataFrame(data=dict_3d)\n",
    "df_4d = pd.DataFrame(data=dict_4d)"
   ]
  },
  {
   "cell_type": "code",
   "execution_count": 5,
   "metadata": {},
   "outputs": [],
   "source": [
    "result = pd.concat([df_3d, df_4d], axis=0)\n",
    "#result.to_csv(\"new_data.csv\",index=False, sep = ',')\n"
   ]
  },
  {
   "cell_type": "code",
   "execution_count": 6,
   "metadata": {},
   "outputs": [],
   "source": [
    "dim = [3, 4]\n",
    "my_dict = []\n",
    "for i in dim:\n",
    "    parms =  [k for k in list_all_folders_2d(5000,i)]\n",
    "    for l in range(len(parms)):\n",
    "        if(i == 3):\n",
    "            my_dict.append((parms[l][0],parms[l][1],i))\n",
    "        elif(i == 4):\n",
    "            my_dict.append((parms[l][0],parms[l][1],i))"
   ]
  },
  {
   "cell_type": "code",
   "execution_count": 7,
   "metadata": {},
   "outputs": [],
   "source": [
    "dict_theoric = [(i,j,k) for i,j,k in zip(result['alpha_a'].values,result['alpha_g'].values,result['dim'].values)]"
   ]
  },
  {
   "cell_type": "code",
   "execution_count": 8,
   "metadata": {},
   "outputs": [],
   "source": [
    "miss = []\n",
    "for i in range(len(dict_theoric)):\n",
    "    bolean = dict_theoric[i] in my_dict\n",
    "    if bolean == False:\n",
    "        miss.append(dict_theoric[i])"
   ]
  },
  {
   "cell_type": "code",
   "execution_count": 9,
   "metadata": {},
   "outputs": [],
   "source": [
    "alpha_a = [miss[i][0] for i in range(len(miss))]\n",
    "alpha_g = [miss[i][1] for i in range(len(miss))]\n",
    "dim = [miss[i][2] for i in range(len(miss))]\n",
    "df = pd.DataFrame(data={'alpha_a':alpha_a,'alpha_g':alpha_g,'dim':dim})\n",
    "df.to_csv(\"../python/new_data.csv\",index=False, sep = ',')"
   ]
  },
  {
   "cell_type": "code",
   "execution_count": 13,
   "metadata": {},
   "outputs": [
    {
     "data": {
      "text/plain": [
       "9335"
      ]
     },
     "execution_count": 13,
     "metadata": {},
     "output_type": "execute_result"
    }
   ],
   "source": [
    "len(df[df[\"dim\"]==3])"
   ]
  }
 ],
 "metadata": {
  "kernelspec": {
   "display_name": "Python 3",
   "language": "python",
   "name": "python3"
  },
  "language_info": {
   "codemirror_mode": {
    "name": "ipython",
    "version": 3
   },
   "file_extension": ".py",
   "mimetype": "text/x-python",
   "name": "python",
   "nbconvert_exporter": "python",
   "pygments_lexer": "ipython3",
   "version": "3.10.12"
  }
 },
 "nbformat": 4,
 "nbformat_minor": 2
}
