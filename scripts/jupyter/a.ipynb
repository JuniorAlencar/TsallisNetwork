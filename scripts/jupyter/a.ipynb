{
 "cells": [
  {
   "cell_type": "code",
   "execution_count": 1,
   "metadata": {},
   "outputs": [],
   "source": [
    "from src.FunctionsSurface import *\n",
    "import matplotlib.pyplot as plt\n",
    "import seaborn as sns\n",
    "from matplotlib.colors import LogNorm  # Import LogNorm"
   ]
  },
  {
   "cell_type": "code",
   "execution_count": 2,
   "metadata": {},
   "outputs": [],
   "source": [
    "N = 5000\n",
    "dim = [1,2,3,4]\n",
    "\n",
    "parms_1d,parms_2d,parms_3d,parms_4d = [],[],[],[]\n",
    "\n",
    "for i in dim:\n",
    "    parms = [k for k in list_all_folders(N,i)]\n",
    "    for l in range(len(parms)):\n",
    "        tuple = (parms[l][0],parms[l][1])\n",
    "        \n",
    "        if(i == 1):\n",
    "            parms_1d.append(tuple)\n",
    "        \n",
    "        elif(i == 2):\n",
    "            parms_2d.append(tuple)\n",
    "        \n",
    "        elif(i == 3):\n",
    "            parms_3d.append(tuple)\n",
    "        \n",
    "        elif(i == 4):\n",
    "            parms_4d.append(tuple)"
   ]
  },
  {
   "cell_type": "code",
   "execution_count": 6,
   "metadata": {},
   "outputs": [],
   "source": [
    "# N = 5000\n",
    "# dim = [1,2,3,4]\n",
    "# for i in dim:\n",
    "#     parms =  [k for k in list_all_folders(N,i)]\n",
    "#     for l in range(len(parms)):\n",
    "#         if(parms[l][1]==0.0):\n",
    "#             shutil.rmtree(f\"../../data/N_{N}/dim_{i}/alpha_a_{parms[l][0]}_alpha_g_{parms[l][1]}\")"
   ]
  },
  {
   "cell_type": "code",
   "execution_count": 3,
   "metadata": {},
   "outputs": [],
   "source": [
    "alpha_a = np.around( np.arange(0.0, 10.1, 0.1), decimals=1)\n",
    "alpha_g = np.around( np.arange(0.1, 10.1, 0.1), decimals=1)\n",
    "theoric = []\n",
    "for i in range(len(alpha_a)):\n",
    "    for j in range(len(alpha_g)):\n",
    "        theoric.append((alpha_a[i],alpha_g[j]))"
   ]
  },
  {
   "cell_type": "code",
   "execution_count": 4,
   "metadata": {},
   "outputs": [],
   "source": [
    "rest_1d = []\n",
    "rest_2d = []\n",
    "rest_3d = []\n",
    "rest_4d = []\n",
    "for i in range(len(theoric)):\n",
    "    if theoric[i] not in parms_1d:\n",
    "        rest_1d.append( ( theoric[i][0], theoric[i][1], 1 ) )\n",
    "    \n",
    "    elif theoric[i] not in parms_2d:\n",
    "        rest_2d.append( ( theoric[i][0], theoric[i][1], 2 ) )\n",
    "    \n",
    "    if theoric[i] not in parms_3d:\n",
    "        rest_3d.append(( theoric[i][0], theoric[i][1], 3 ))\n",
    "    \n",
    "    elif theoric[i] not in parms_4d:\n",
    "        rest_4d.append(( theoric[i][0], theoric[i][1], 4 ))\n",
    "rest_all = rest_1d + rest_2d + rest_3d + rest_4d"
   ]
  },
  {
   "cell_type": "code",
   "execution_count": 5,
   "metadata": {},
   "outputs": [
    {
     "data": {
      "text/plain": [
       "[(0.2, 9.6, 2),\n",
       " (0.3, 9.7, 2),\n",
       " (0.4, 9.8, 2),\n",
       " (1.6, 9.8, 2),\n",
       " (3.3, 9.2, 2),\n",
       " (5.2, 9.9, 2),\n",
       " (6.3, 9.5, 2),\n",
       " (7.2, 9.3, 2),\n",
       " (7.8, 9.2, 2),\n",
       " (8.2, 9.5, 2),\n",
       " (9.1, 9.8, 2),\n",
       " (9.2, 9.5, 2),\n",
       " (9.4, 5.3, 2),\n",
       " (9.5, 4.6, 2),\n",
       " (9.5, 7.9, 2),\n",
       " (9.5, 9.4, 2),\n",
       " (9.6, 6.4, 2),\n",
       " (9.6, 7.3, 2),\n",
       " (9.7, 0.6, 2),\n",
       " (9.8, 2.4, 2),\n",
       " (9.8, 2.5, 2),\n",
       " (10.0, 6.3, 2)]"
      ]
     },
     "execution_count": 5,
     "metadata": {},
     "output_type": "execute_result"
    }
   ],
   "source": [
    "rest_all = [(i,j,k) for i,j,k in rest_all if j!=0.0]\n",
    "rest_all"
   ]
  },
  {
   "cell_type": "code",
   "execution_count": 6,
   "metadata": {},
   "outputs": [],
   "source": [
    "alpha_a = [rest_all[i][0] for i in range(len(rest_all))]\n",
    "alpha_g = [rest_all[i][1] for i in range(len(rest_all))]\n",
    "dim = [rest_all[i][2] for i in range(len(rest_all))]\n",
    "df = pd.DataFrame(data={'alpha_a':alpha_a, 'alpha_g':alpha_g,'dim':dim})\n",
    "df.to_csv('parms.txt',sep=' ',index=False)"
   ]
  }
 ],
 "metadata": {
  "kernelspec": {
   "display_name": "Python 3",
   "language": "python",
   "name": "python3"
  },
  "language_info": {
   "codemirror_mode": {
    "name": "ipython",
    "version": 3
   },
   "file_extension": ".py",
   "mimetype": "text/x-python",
   "name": "python",
   "nbconvert_exporter": "python",
   "pygments_lexer": "ipython3",
   "version": "3.11.7"
  }
 },
 "nbformat": 4,
 "nbformat_minor": 2
}
