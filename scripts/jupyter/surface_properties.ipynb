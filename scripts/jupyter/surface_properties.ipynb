{
 "cells": [
  {
   "cell_type": "code",
   "execution_count": 1,
   "metadata": {},
   "outputs": [],
   "source": [
    "from src.FunctionsSurface import *\n",
    "import matplotlib.pyplot as plt\n",
    "import seaborn as sns\n",
    "from matplotlib.colors import LogNorm  # Import LogNorm"
   ]
  },
  {
   "cell_type": "code",
   "execution_count": 2,
   "metadata": {},
   "outputs": [],
   "source": [
    "N = 5000\n",
    "dim = [1,2,3,4]\n",
    "\n",
    "parms_1d,parms_2d,parms_3d,parms_4d = [],[],[],[]\n",
    "\n",
    "for i in dim:\n",
    "    parms = [k for k in list_all_folders(N,i)]\n",
    "    for l in range(len(parms)):\n",
    "        tuple = (float(parms[l][0]),float(parms[l][1]))\n",
    "        if(i == 1):\n",
    "            parms_1d.append(tuple)\n",
    "        elif(i == 2):\n",
    "            parms_2d.append(tuple)\n",
    "        elif(i==3):\n",
    "            parms_3d.append(tuple)\n",
    "        elif(i==4):\n",
    "            parms_4d.append(tuple)\n",
    "\n",
    "alpha_a = np.arange(0.0, 9.1, 0.1)\n",
    "alpha_g = np.arange(0.0, 9.1, 0.1)\n",
    "theoric = []\n",
    "for i in range(len(alpha_a)):\n",
    "    for j in range(len(alpha_g)):\n",
    "        theoric.append((round(alpha_a[i],2),round(alpha_g[j],2)))\n",
    "\n",
    "remening_1d = []\n",
    "remening_2d = []\n",
    "remening_3d = []\n",
    "remening_4d = []\n",
    "\n",
    "for i in range(len(theoric)):\n",
    "    if theoric[i] not in parms_1d:\n",
    "        remening_1d.append((theoric[i][0], theoric[i][1], 1))\n",
    "    \n",
    "    elif theoric[i] not in parms_2d:\n",
    "        remening_2d.append((theoric[i][0], theoric[i][1], 2))\n",
    "    \n",
    "    elif theoric[i] not in parms_3d:\n",
    "        remening_3d.append((theoric[i][0], theoric[i][1], 3))\n",
    "    \n",
    "    elif theoric[i] not in parms_4d:\n",
    "        remening_4d.append((theoric[i][0], theoric[i][1], 4))\n",
    "\n",
    "remening_all = remening_1d + remening_2d + remening_3d + remening_4d\n",
    "\n",
    "dict_ = {\"alpha_a\":[],\"alpha_g\":[],\"dim\":[]}\n",
    "\n",
    "for i in range(len(remening_all)):\n",
    "    dict_[\"alpha_a\"].append(remening_all[i][0])\n",
    "    dict_[\"alpha_g\"].append(remening_all[i][1])\n",
    "    dict_[\"dim\"].append(remening_all[i][2])\n",
    "df = pd.DataFrame(data=dict_)\n",
    "df.to_csv(\"rest_parms.txt\", index=False, sep=\" \",mode=\"w+\")"
   ]
  },
  {
   "cell_type": "code",
   "execution_count": 4,
   "metadata": {},
   "outputs": [
    {
     "data": {
      "text/plain": [
       "4154"
      ]
     },
     "execution_count": 4,
     "metadata": {},
     "output_type": "execute_result"
    }
   ],
   "source": [
    "len(df)"
   ]
  },
  {
   "cell_type": "code",
   "execution_count": 2,
   "metadata": {},
   "outputs": [],
   "source": [
    "N = 5000\n",
    "dim = [1,2,3,4]\n",
    "for i in dim:\n",
    "    parms =  [k for k in list_all_folders(N,i)]\n",
    "    for l in range(len(parms)):\n",
    "        all_properties_dataframe(N, i, parms[l][0], parms[l][1])"
   ]
  },
  {
   "cell_type": "code",
   "execution_count": null,
   "metadata": {},
   "outputs": [],
   "source": [
    "alpha_a = [0.0, 1.0, 2.0, 3.0, 4.0, 5.0, 6.0, 7.0, 8.0, 9.0]\n",
    "alpha_g = [0.1, 1.0, 2.0, 3.0, 4.0, 5.0, 6.0, 7.0, 8.0, 9.0]\n",
    "\n",
    "for n in N__:\n",
    "    for d in dim:\n",
    "        for g in alpha_g:\n",
    "            for a in alpha_a:\n",
    "                alpha_G = list_all_folders_for_alpha_fixed(n, d , a, g, alpha_g_variable=True)\n",
    "                create_all_properties_file(n, d, a, alpha_G, alpha_g_variable=True)\n",
    "\n",
    "    for d in dim:\n",
    "        for a in alpha_a:\n",
    "            for g in alpha_g:\n",
    "                alpha_A = list_all_folders_for_alpha_fixed(n, d , a, g, alpha_g_variable=False)\n",
    "                create_all_properties_file(n, d, alpha_A, g, alpha_g_variable=False)"
   ]
  },
  {
   "cell_type": "code",
   "execution_count": null,
   "metadata": {},
   "outputs": [],
   "source": [
    "data = pd.read_csv(\"../../data/all_data.csv\",sep=',')\n",
    "all_data =  filter_dataframe(data)\n",
    "all_data.head()"
   ]
  },
  {
   "cell_type": "code",
   "execution_count": null,
   "metadata": {},
   "outputs": [],
   "source": [
    "all_data[\"n_size\"].unique()"
   ]
  },
  {
   "cell_type": "code",
   "execution_count": null,
   "metadata": {},
   "outputs": [],
   "source": [
    "df__ = assortativity_N(all_data, [5000, 10000, 20000, 40000])"
   ]
  },
  {
   "cell_type": "code",
   "execution_count": null,
   "metadata": {},
   "outputs": [],
   "source": [
    "median = []\n",
    "avarage = []\n",
    "for i in [1,2,3,4]:\n",
    "    order = [find_order_of_magnitude(i) for i in df__[df__['dim']  == i ][\"N*\"].values]\n",
    "    median.append(np.median(sorted(order)))\n",
    "    avarage.append(np.mean(order))\n",
    "    plt.hist(order,label=f'dim = {i}', alpha = 0.3, edgecolor='black')\n",
    "print(\"median =\",median)\n",
    "print(\"mean = \",avarage)\n",
    "plt.xlabel(\"Order of magnitude N*\")\n",
    "plt.legend()\n",
    "plt.show()"
   ]
  },
  {
   "cell_type": "code",
   "execution_count": null,
   "metadata": {},
   "outputs": [],
   "source": [
    "dim = 2\n",
    "for dim in [1,2,3,4]:\n",
    "        data = {'x': df__[df__[\"dim\"] == dim][\"alpha_a\"].values,\n",
    "                'y': df__[df__[\"dim\"] == dim][\"alpha_g\"].values,\n",
    "                'z': np.log10(df__[df__[\"dim\"] == dim][\"N*\"].values)}\n",
    "\n",
    "        df_ = pd.DataFrame(data)\n",
    "\n",
    "        df_ = df_.sort_values(by='y')\n",
    "\n",
    "        # Pivot the DataFrame to prepare for heatmap\n",
    "        pivot_df = df_.pivot(index='y', columns='x', values='z')\n",
    "\n",
    "        # Plotting the heatmap\n",
    "        #ax = sns.heatmap(pivot_df, cmap='coolwarm', norm=LogNorm())\n",
    "        ax = sns.heatmap(pivot_df, cmap='coolwarm', yticklabels=sorted(df_['y'].unique()))\n",
    "        cbar = ax.collections[0].colorbar\n",
    "        cbar.set_label(r\"$\\log_{10} N^*$\", fontsize=18)\n",
    "\n",
    "        # Adding title and labels\n",
    "        plt.title(f'Dimension = {dim}')\n",
    "        plt.xlabel(r'$\\alpha_a$',fontsize=18)\n",
    "        plt.ylabel(r'$\\alpha_g$',fontsize=18)\n",
    "\n",
    "        # Display the plot\n",
    "        plt.show()"
   ]
  },
  {
   "cell_type": "code",
   "execution_count": null,
   "metadata": {},
   "outputs": [],
   "source": [
    "all_data_filter = filter_dataframe(all_data)\n",
    "all_data_filter.head()"
   ]
  },
  {
   "cell_type": "code",
   "execution_count": null,
   "metadata": {},
   "outputs": [],
   "source": [
    "List_N = [5000, 10000, 20000, 40000]\n",
    "df = beta_all(all_data_filter, List_N)\n",
    "df.head()"
   ]
  },
  {
   "cell_type": "code",
   "execution_count": null,
   "metadata": {},
   "outputs": [],
   "source": [
    "df_1d = df[df[\"dim\"]==1]\n",
    "df_2d = df[df[\"dim\"]==2]\n",
    "df_3d = df[df[\"dim\"]==3]\n",
    "df_4d = df[df[\"dim\"]==4]"
   ]
  },
  {
   "cell_type": "code",
   "execution_count": null,
   "metadata": {},
   "outputs": [],
   "source": [
    "def heatmap(dataframe, propertie = \"beta_short\", label_prop = r'$\\beta_\\ell$' ,dim = 1):\n",
    "        # Example DataFrame with x, y, z values\n",
    "        \n",
    "        data = {'x': dataframe[dataframe[\"dim\"] == dim][\"alpha_a\"].values,\n",
    "                'y': dataframe[dataframe[\"dim\"] == dim][\"alpha_g\"].values,\n",
    "                'z': dataframe[dataframe[\"dim\"] == dim][propertie].values}\n",
    "\n",
    "        df_ = pd.DataFrame(data)\n",
    "        \n",
    "        df_ = df_.sort_values(by='y')\n",
    "        \n",
    "        # Pivot the DataFrame to prepare for heatmap\n",
    "        pivot_df = df_.pivot(index='y', columns='x', values='z')\n",
    "        \n",
    "        # Plotting the heatmap\n",
    "        #ax = sns.heatmap(pivot_df, cmap='coolwarm', norm=LogNorm())\n",
    "        ax = sns.heatmap(pivot_df, cmap='coolwarm', yticklabels=sorted(df_['y'].unique()))\n",
    "        cbar = ax.collections[0].colorbar\n",
    "        cbar.set_label(label_prop, fontsize=18)\n",
    "        \n",
    "        # Adding title and labels\n",
    "        plt.title(f'Dimension = {dim}')\n",
    "        plt.xlabel(r'$\\alpha_a$',fontsize=18)\n",
    "        plt.ylabel(r'$\\alpha_g$',fontsize=18)\n",
    "\n",
    "        # Display the plot\n",
    "        plt.show()"
   ]
  },
  {
   "cell_type": "code",
   "execution_count": null,
   "metadata": {},
   "outputs": [],
   "source": [
    "for d in [1,2,3,4]:\n",
    "    heatmap(df,  dim = d)"
   ]
  }
 ],
 "metadata": {
  "kernelspec": {
   "display_name": "Python 3",
   "language": "python",
   "name": "python3"
  },
  "language_info": {
   "codemirror_mode": {
    "name": "ipython",
    "version": 3
   },
   "file_extension": ".py",
   "mimetype": "text/x-python",
   "name": "python",
   "nbconvert_exporter": "python",
   "pygments_lexer": "ipython3",
   "version": "3.11.7"
  }
 },
 "nbformat": 4,
 "nbformat_minor": 2
}
