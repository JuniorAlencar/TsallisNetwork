{
 "cells": [
  {
   "cell_type": "code",
   "execution_count": 1,
   "metadata": {},
   "outputs": [],
   "source": [
    "import numpy as np\n",
    "import pandas as pd\n",
    "import matplotlib.pyplot as plt\n",
    "import os  \n",
    "import glob\n",
    "from collections import Counter\n",
    "from collections import OrderedDict\n",
    "import gzip\n",
    "from scipy import stats\n",
    "from sklearn.linear_model import LinearRegression\n",
    "from matplotlib.ticker import (MultipleLocator, AutoMinorLocator)\n",
    "from sklearn.model_selection import train_test_split\n",
    "import matplotlib as mpl\n",
    "import networkx as nx\n",
    "mpl.rcParams['axes.linewidth'] = 1.4 #set the value globally\n",
    "from time import process_time \n"
   ]
  },
  {
   "cell_type": "code",
   "execution_count": 27,
   "metadata": {},
   "outputs": [],
   "source": [
    "def r(degree,connections):\n",
    "    D = np.array(degree)\n",
    "    Ter_1 = sum(D)\n",
    "    Ter_3 = np.dot(D,D)\n",
    "    Ter_4 = sum(D**3)\n",
    "    G = nx.from_edgelist(connections)\n",
    "    Ter_2 = 0\n",
    "    for i in G.edges():\n",
    "        d_s = G.degree[i[0]]\n",
    "        d_t = G.degree[i[1]]\n",
    "        Ter_2 += d_s*d_t\n",
    "    return (Ter_1*Ter_2-Ter_3**2)/(Ter_1*Ter_4-Ter_3**2)"
   ]
  },
  {
   "cell_type": "code",
   "execution_count": 43,
   "metadata": {},
   "outputs": [],
   "source": [
    "# -*- coding: utf-8 -*-\n",
    "import gzip\n",
    "import os\n",
    "\n",
    "def gml_reader(N, dim, alpha_a, alpha_g):\n",
    "\tpath = f\"../../data/N_{N}/dim_{dim}/alpha_a_{alpha_a}_alpha_g_{alpha_g}/gml/\" \n",
    "\t\n",
    "\tisExist = os.path.exists(path)\n",
    "\tif(isExist!=True):\n",
    "\t\treturn \"doesn't exist\", \"gml_folder\"\n",
    "\t\n",
    "\tall_files = glob.glob(os.path.join(path,\"*.gml.gz\"))\n",
    "\t\n",
    "\tr_value = []\n",
    "\t\n",
    "\tfor file in all_files:\n",
    "\t\tnode = {\"id\": [],\n",
    "\t\t\t\"position\":[],\n",
    "\t\t\t\"degree\": []}\n",
    "\t\tedge = {\"connections\": [],\n",
    "\t\t\t\"distance\": []}\n",
    "\t\t\n",
    "\t\twith gzip.open(file) as file_in:\n",
    "\t\t\tString = file_in.readlines()\n",
    "\t\t\tLines = [i.decode('utf-8') for i in String]\n",
    "\t\t\tfor i in range(len(Lines)):\n",
    "\t\t\t\tif(Lines[i]=='node\\n'):\n",
    "\t\t\t\t\tnode[\"id\"].append(int(Lines[i+2][4:-2]))\n",
    "\t\t\t\t\tnode[\"position\"].append([float(Lines[i+6][2:-1]),float(Lines[i+7][2:-1]),float(Lines[i+8][2:-1])])\n",
    "\t\t\t\t\tif(Lines[i+9][0]==\"q\"):\n",
    "\t\t\t\t\t\tnode[\"degree\"].append(int(Lines[i+10][7:-1]))\n",
    "\t\t\t\t\telse:\n",
    "\t\t\t\t\t\tnode[\"degree\"].append(int(Lines[i+9][7:-1]))\n",
    "\t\t\t\telif(Lines[i]==\"edge\\n\"):\n",
    "\t\t\t\t\tedge[\"connections\"].append([int(Lines[i+2][8:-2]),int(Lines[i+3][8:-2])])\n",
    "\t\t\t\t\tedge[\"distance\"].append(float(Lines[i+4][9:-1]))\n",
    "\t\tterm = r(node[\"degree\"], edge[\"connections\"])\n",
    "\t\tr_value.append(term)\n",
    "\t\n",
    "\treturn r_value"
   ]
  },
  {
   "cell_type": "code",
   "execution_count": 50,
   "metadata": {},
   "outputs": [],
   "source": [
    "N,dim,alpha_a,alpha_g = 10**5, 1, 7.5, 2.0\n",
    "A = gml_reader(N, dim, alpha_a, alpha_g)"
   ]
  },
  {
   "cell_type": "code",
   "execution_count": 51,
   "metadata": {},
   "outputs": [
    {
     "data": {
      "text/plain": [
       "[-1.1157625119216337,\n",
       " -1.1178842326305567,\n",
       " -1.1261693780585236,\n",
       " -1.1030985133419078,\n",
       " -1.1364554557044455,\n",
       " -1.1277683032716457,\n",
       " -1.124335588122616,\n",
       " -1.1320108495318788,\n",
       " -1.1369017708773954,\n",
       " -1.1123575882227603,\n",
       " -1.1361880291835689,\n",
       " -1.1185917540912382,\n",
       " -1.113516604079321,\n",
       " -1.1271322169022864,\n",
       " -1.1259075504047014,\n",
       " -1.1168053427537858,\n",
       " -1.1126604947751235,\n",
       " -1.1241293198462876,\n",
       " -1.1240366920727618,\n",
       " -1.1152009787582906,\n",
       " -1.1102666412424986,\n",
       " -1.1148657720307922,\n",
       " -1.1225183007534205,\n",
       " -1.1195073680919734,\n",
       " -1.1145230029668969,\n",
       " -1.0991294491387693,\n",
       " -1.1208345716320836,\n",
       " -1.1236968406540429,\n",
       " -1.115749905983212,\n",
       " -1.1261446973011073,\n",
       " -1.129599352285036,\n",
       " -1.110126057524913,\n",
       " -1.119777040163064]"
      ]
     },
     "execution_count": 51,
     "metadata": {},
     "output_type": "execute_result"
    }
   ],
   "source": [
    "A"
   ]
  },
  {
   "cell_type": "code",
   "execution_count": 48,
   "metadata": {},
   "outputs": [
    {
     "data": {
      "text/plain": [
       "-1.147971444080834"
      ]
     },
     "execution_count": 48,
     "metadata": {},
     "output_type": "execute_result"
    }
   ],
   "source": [
    "B = np.mean(A)\n",
    "B"
   ]
  },
  {
   "cell_type": "code",
   "execution_count": 25,
   "metadata": {},
   "outputs": [],
   "source": [
    "path = f\"../../data/N_{N}/dim_{dim}/alpha_a_{alpha_a}_alpha_g_{alpha_g}/gml/\" \n",
    "\n",
    "File = f\"gml_{cod_file}.gml.gz\"\n",
    "\n",
    "file_directory = path + File\n",
    "\n",
    "node = {\"id\": [],\n",
    "    \"position\":[],\n",
    "    \"degree\": []}\n",
    "\n",
    "edge = {\"connections\": [],\n",
    "        \"distance\": []}\n",
    "\n",
    "with gzip.open(file_directory) as file_in:\n",
    "    String = file_in.readlines()\n",
    "    Lines = [i.decode('utf-8') for i in String]\n",
    "    for i in range(len(Lines)):\n",
    "        if(Lines[i]=='node\\n'):\n",
    "            node[\"id\"].append(int(Lines[i+2][4:-2]))\n",
    "            node[\"position\"].append([float(Lines[i+6][2:-1]),float(Lines[i+7][2:-1]),float(Lines[i+8][2:-1])])\n",
    "            node[\"degree\"].append(int(Lines[i+10][7:-1]))\n",
    "        elif(Lines[i]==\"edge\\n\"):\n",
    "            edge[\"connections\"].append([int(Lines[i+2][8:-2]),int(Lines[i+3][8:-2])])\n",
    "            edge[\"distance\"].append(float(Lines[i+4][9:-1]))"
   ]
  },
  {
   "cell_type": "code",
   "execution_count": 26,
   "metadata": {},
   "outputs": [
    {
     "data": {
      "text/plain": [
       "-0.12622355599642887"
      ]
     },
     "execution_count": 26,
     "metadata": {},
     "output_type": "execute_result"
    }
   ],
   "source": [
    "a = r(node[\"degree\"],edge[\"connections\"])\n",
    "a"
   ]
  },
  {
   "cell_type": "code",
   "execution_count": null,
   "metadata": {},
   "outputs": [],
   "source": []
  }
 ],
 "metadata": {
  "kernelspec": {
   "display_name": "Python 3",
   "language": "python",
   "name": "python3"
  },
  "language_info": {
   "codemirror_mode": {
    "name": "ipython",
    "version": 3
   },
   "file_extension": ".py",
   "mimetype": "text/x-python",
   "name": "python",
   "nbconvert_exporter": "python",
   "pygments_lexer": "ipython3",
   "version": "3.10.12"
  },
  "orig_nbformat": 4
 },
 "nbformat": 4,
 "nbformat_minor": 2
}
