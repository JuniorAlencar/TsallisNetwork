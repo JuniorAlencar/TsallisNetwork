{
 "cells": [
  {
   "cell_type": "code",
   "execution_count": 1,
   "metadata": {},
   "outputs": [],
   "source": [
    "import numpy as np"
   ]
  },
  {
   "cell_type": "code",
   "execution_count": 21,
   "metadata": {},
   "outputs": [],
   "source": [
    "def ScriptGenerate(alpha_a,alpha_g,dim,NumSamples):\n",
    "    filename = f\"a{alpha_a:.6f}_g{alpha_g:.6f}_d{dim}.sh\"\n",
    "\n",
    "    a = \"#!/bin/bash\\n\"\n",
    "    b = f\"#SBATCH -J a{alpha_a:.6f}_g{alpha_g:.6f}_d{dim}\\n\"\n",
    "    c = \"#SBATCH --mail-user=junioralencar@fisica.ufc.br\\n\"\n",
    "    d = f\"#SBATCH --ntasks={NumSamples}\\n\"\n",
    "    e = \"#SBATCH --mail-type=ALL\\n\\t\"\n",
    "\n",
    "    list_for_loop = [a,b,c,d,e]\n",
    "    l = open(\"../multithread/\" + filename, \"w\") # argument w: write if don't exist file\n",
    "\n",
    "    for k in list_for_loop:\n",
    "        l.write(k)\n",
    "    l.close()"
   ]
  },
  {
   "cell_type": "code",
   "execution_count": 22,
   "metadata": {},
   "outputs": [],
   "source": [
    "def JsonGenerate(alpha_a,alpha_g,dim):\n",
    "    alpha_a = round(alpha_a,6)\n",
    "    filename = f\"{alpha_a:.6f}_g{alpha_g:.6f}_d{dim}.json\"\n",
    "    a = \"{\\n\"\n",
    "    b = \"\\\"comment\\\": \\\"use seed= -1 for random seed\\\",\\n\"\n",
    "    c = \"\\\"num_vertices\\\": 100000,\\n\"\n",
    "    d = f\"\\\"alpha_a\\\": {alpha_a:.6f},\\n\".format(\".6f\")\n",
    "    e = f\"\\\"alpha_g\\\": {alpha_g:.6f},\\n\"\n",
    "    f = \"\\\"r_min\\\": 1,\\n\"\n",
    "    g = \"\\\"r_max\\\": 10000000,\\n\"\n",
    "    h = f\"\\\"dim\\\": {dim},\\n\"\n",
    "    i = \"\\\"seed\\\": -1,\\n\"\n",
    "    j = \"}\"\n",
    "    w = open(filename, \"w\" )\n",
    "    list_for_loop = [a,b,c,d,e,f,g,h,i,j]\n",
    "    x = open(\"../scripts/parms/\" + filename, \"w\")\n",
    "\n",
    "    for k in list_for_loop:\n",
    "        x.write(k)\n",
    "    x.close()"
   ]
  },
  {
   "cell_type": "code",
   "execution_count": 16,
   "metadata": {},
   "outputs": [
    {
     "name": "stdout",
     "output_type": "stream",
     "text": [
      "\"alpha_a\": 2.000000,\n",
      "\n"
     ]
    }
   ],
   "source": []
  }
 ],
 "metadata": {
  "kernelspec": {
   "display_name": "Python 3",
   "language": "python",
   "name": "python3"
  },
  "language_info": {
   "codemirror_mode": {
    "name": "ipython",
    "version": 3
   },
   "file_extension": ".py",
   "mimetype": "text/x-python",
   "name": "python",
   "nbconvert_exporter": "python",
   "pygments_lexer": "ipython3",
   "version": "3.10.10"
  },
  "orig_nbformat": 4
 },
 "nbformat": 4,
 "nbformat_minor": 2
}
